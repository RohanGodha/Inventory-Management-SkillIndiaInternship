{
  "nbformat": 4,
  "nbformat_minor": 0,
  "metadata": {
    "colab": {
      "name": "SELLING INVENTORY.ipynb",
      "provenance": [],
      "collapsed_sections": []
    },
    "kernelspec": {
      "display_name": "Python 3",
      "name": "python3"
    },
    "language_info": {
      "name": "python"
    }
  },
  "cells": [
    {
      "cell_type": "markdown",
      "metadata": {
        "id": "Hme-LU3u7rRf"
      },
      "source": [
        ""
      ]
    },
    {
      "cell_type": "code",
      "metadata": {
        "id": "7LyjeBeECBsK"
      },
      "source": [
        "import json\n",
        "import time\n",
        "fd = open(\"record.json\",'r')\n",
        "r = fd.read()\n",
        "fd.close()\n",
        "record = json.loads(r)\n",
        "\n",
        "# fs = open(\"sales.json\",'r')\n",
        "# s = fs.read()\n",
        "# fs.close()\n",
        "# sales = json.loads(s)"
      ],
      "execution_count": 111,
      "outputs": []
    },
    {
      "cell_type": "code",
      "metadata": {
        "colab": {
          "base_uri": "https://localhost:8080/"
        },
        "id": "JgocuGC6Vsp8",
        "outputId": "a8310b32-b3c0-4466-f810-10eeabf97ddc"
      },
      "source": [
        "m=1\n",
        "for i in record:\n",
        "  print(m,\"ID:\",i,record[i]['comp'],record[i]['color'],\"Rs.\",record[i]['price'],\"Size:\",record[i]['size'])\n",
        "  print(\"\")\n",
        "  m=m+1"
      ],
      "execution_count": 112,
      "outputs": [
        {
          "output_type": "stream",
          "name": "stdout",
          "text": [
            "1 ID: ADI1 Adidas Blue Rs. 799 Size: L\n",
            "\n",
            "2 ID: ADI2 Adidas Green Rs. 435 Size: M\n",
            "\n",
            "3 ID: ADI3 Adidas Blue Rs. 456 Size: XXL\n",
            "\n",
            "4 ID: ADI4 Adidas Navy Blue Rs. 765 Size: S\n",
            "\n",
            "5 ID: ADI5 Adidas Peach Rs. 456 Size: M\n",
            "\n",
            "6 ID: NIKE1 Nike Black Rs. 978 Size: XXXL\n",
            "\n",
            "7 ID: NIKE2 Nike Pink Rs. 575 Size: XXL\n",
            "\n",
            "8 ID: NIKE3 Nike Green Rs. 547 Size: L\n",
            "\n",
            "9 ID: NIKE4 Nike Orange Rs. 574 Size: M\n",
            "\n",
            "10 ID: NIKE5 Nike White Rs. 777 Size: S\n",
            "\n",
            "11 ID: ZACK1 ZACK AND ZONES RED Rs. 650 Size: M\n",
            "\n",
            "12 ID: JINNY1 JINKUJOL Red Rs. 450 Size: M\n",
            "\n",
            "13 ID: JINNY2 JINKIJOL White Rs. 555 Size: L\n",
            "\n",
            "14 ID: PUMA1 PUMA Green Rs. 700 Size: L\n",
            "\n",
            "15 ID: PUMA2 PUMA Red Rs. 699 Size: L\n",
            "\n",
            "16 ID: PUMA3 PUMA Orange Rs. 5000 Size: XL\n",
            "\n",
            "17 ID: PUMA PUMA Black Rs. 5067 Size: M\n",
            "\n",
            "18 ID: PUMA4 PUMA Pink Rs. 100 Size: XS\n",
            "\n",
            "19 ID: PUMA5 PUMA Blue Rs. 399 Size: S\n",
            "\n",
            "20 ID: VT1 Videsh White Rs. 600 Size: L\n",
            "\n",
            "21 ID: VT2 Videsh Cream Rs. 100 Size: XL\n",
            "\n",
            "22 ID: VT3 Videsh Grey Rs. 150 Size: L\n",
            "\n",
            "23 ID: NOTTY1 NATWAR Peach Rs. 560 Size: L\n",
            "\n",
            "24 ID: NOTTY2 Natwar Green Rs. 450 Size: L\n",
            "\n",
            "25 ID: NOTTY3 Natwar Orange Rs. 600 Size: L\n",
            "\n",
            "26 ID: NOTTY4 Natwar Black Rs. 4500 Size: M\n",
            "\n",
            "27 ID: NOTTY5 Natwar White Rs. 550 Size: XL\n",
            "\n",
            "28 ID: PXI1 Pixel White Rs. 700 Size: M\n",
            "\n",
            "29 ID: PXI2 Pixel Orange Rs. 4500 Size: S\n",
            "\n",
            "30 ID: PXI3 Pixel Cream Rs. 600 Size: M\n",
            "\n",
            "31 ID: PXI4 Pixel Red Rs. 987 Size: XXL\n",
            "\n",
            "32 ID: PXI5 Pixel Hue Rs. 999 Size: L\n",
            "\n"
          ]
        }
      ]
    },
    {
      "cell_type": "code",
      "metadata": {
        "colab": {
          "base_uri": "https://localhost:8080/"
        },
        "id": "2j5V99B2WDuI",
        "outputId": "42bf2ba7-3fa5-4e44-a271-afd581bf517f"
      },
      "source": [
        "print(\"Welcome Sir/Madam. \\nWe has diverse variety of T-Shirts from Various Brands in all sorts of colours.\\n\\n\\nPlease Enter the details of the T-Shirt variety you would like to buy\")\n",
        "trans=int(input(\"How many transactions do you wish do to? : \"))\n",
        "ti=4\n",
        "for k in range(0,trans):\n",
        "  ti=ti+1\n",
        "  CUSTOMER=str(input(\"Please Enter Your Name: \"))\n",
        "  ask_id=str(input(\"\\nEnter T-Shirt ID which you wish to purchase : \"))\n",
        "  ask_quant=int(input(\"How many T-Shirts of this type do you want?: \"))\n",
        "\n",
        "  print(\"\\n\\nYou have Selected T_Shirt :\\nCompany :\", record[ask_id]['comp'])\n",
        "  print(\"Color: \",record[ask_id]['color'])\n",
        "  print(\"Price: \",record[ask_id]['price'])\n",
        "  print(\"Size: \",record[ask_id]['size'])\n",
        "  print(\"Number of Pieces: \",ask_quant)\n",
        "\n",
        "  print(\"\\nThank You for Shopping with us,\\nMr/Mrs \",CUSTOMER,\" ,Your Total Bill is of Rs: \",(sell[ask_id]['price'])*(ask_quant))\n",
        "  import time\n",
        "  print(\"Transaction Time: \",time.ctime(),\"\\n\\n\")\n",
        "\n",
        "  record[ask_id]['quant'] = record[ask_id]['quant'] -ask_quant\n",
        "\n",
        "  js = json.dumps(record)\n",
        "  fd = open(\"record.json\",'w')\n",
        "  fd.write(js)\n",
        "  fd.close()\n",
        "\n",
        "  {'CUSTOMER' : CUSTOMER, 'bill' : sell[ask_id]['price']*ask_quant, 'quant': ask_quant}\n",
        "  sales = {ti : {'CUSTOMER' : CUSTOMER, 'bill' : sell[ask_id]['price']*ask_quant, 'quant': ask_quant}}\n",
        "  ti=ti+1\n",
        "\n",
        "  sj = json.dumps(sales)\n"
      ],
      "execution_count": 116,
      "outputs": [
        {
          "output_type": "stream",
          "name": "stdout",
          "text": [
            "Welcome Sir/Madam. \n",
            "We has diverse variety of T-Shirts from Various Brands in all sorts of colours.\n",
            "\n",
            "\n",
            "Please Enter the details of the T-Shirt variety you would like to buy\n",
            "How many transactions do you wish do to? : 2\n",
            "Please Enter Your Name: Mansi\n",
            "\n",
            "Enter T-Shirt ID which you wish to purchase : ADI3\n",
            "How many T-Shirts of this type do you want?: 4\n",
            "\n",
            "\n",
            "You have Selected T_Shirt :\n",
            "Company : Adidas\n",
            "Color:  Blue\n",
            "Price:  456\n",
            "Size:  XXL\n",
            "Number of Pieces:  4\n",
            "\n",
            "Thank You for Shopping with us,\n",
            "Mr/Mrs  Mansi  ,Your Total Bill is of Rs:  1824\n",
            "Transaction Time:  Mon Sep  6 16:22:07 2021 \n",
            "\n",
            "\n",
            "Please Enter Your Name: Aadil\n",
            "\n",
            "Enter T-Shirt ID which you wish to purchase : ADI5\n",
            "How many T-Shirts of this type do you want?: 3\n",
            "\n",
            "\n",
            "You have Selected T_Shirt :\n",
            "Company : Adidas\n",
            "Color:  Peach\n",
            "Price:  456\n",
            "Size:  M\n",
            "Number of Pieces:  3\n",
            "\n",
            "Thank You for Shopping with us,\n",
            "Mr/Mrs  Aadil  ,Your Total Bill is of Rs:  1368\n",
            "Transaction Time:  Mon Sep  6 16:22:28 2021 \n",
            "\n",
            "\n"
          ]
        }
      ]
    },
    {
      "cell_type": "code",
      "metadata": {
        "id": "QxtjSinb4yDf"
      },
      "source": [
        ""
      ],
      "execution_count": null,
      "outputs": []
    }
  ]
}