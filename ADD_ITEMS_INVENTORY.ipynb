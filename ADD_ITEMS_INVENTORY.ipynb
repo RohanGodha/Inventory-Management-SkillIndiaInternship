{
  "nbformat": 4,
  "nbformat_minor": 0,
  "metadata": {
    "colab": {
      "name": "ADD ITEMS INVENTORY.ipynb",
      "provenance": [],
      "collapsed_sections": []
    },
    "kernelspec": {
      "display_name": "Python 3",
      "name": "python3"
    },
    "language_info": {
      "name": "python"
    }
  },
  "cells": [
    {
      "cell_type": "code",
      "metadata": {
        "id": "goIEJm0Mh9d2"
      },
      "source": [
        "import json\n",
        "fd = open(\"record.json\",'r')\n",
        "r = fd.read()\n",
        "fd.close()\n",
        "record=json.loads(r)"
      ],
      "execution_count": 42,
      "outputs": []
    },
    {
      "cell_type": "code",
      "metadata": {
        "id": "IW-zd9z595CP",
        "colab": {
          "base_uri": "https://localhost:8080/"
        },
        "outputId": "c2869532-48ba-4d4f-8904-326716c9da70"
      },
      "source": [
        "for i in record:\n",
        "  print(\"ID:\",i)\n",
        "  print(record[i]['comp'],record[i]['color'],\"Rs.\",record[i]['price'],\"Quantity Available:\",record[i]['quant'],\"Size:\",record[i]['size'])\n",
        "  print(\"\")"
      ],
      "execution_count": 43,
      "outputs": [
        {
          "output_type": "stream",
          "name": "stdout",
          "text": [
            "ID: ADI1\n",
            "Adidas Blue Rs. 799 Quantity Available: 150 Size: L\n",
            "\n",
            "ID: ADI2\n",
            "Adidas Green Rs. 435 Quantity Available: 10 Size: M\n",
            "\n",
            "ID: ADI3\n",
            "Adidas Blue Rs. 456 Quantity Available: 10 Size: XXL\n",
            "\n",
            "ID: ADI4\n",
            "Adidas Navy Blue Rs. 765 Quantity Available: 50 Size: S\n",
            "\n",
            "ID: ADI5\n",
            "Adidas Peach Rs. 456 Quantity Available: 40 Size: M\n",
            "\n",
            "ID: NIKE1\n",
            "Nike Black Rs. 978 Quantity Available: 30 Size: XXXL\n",
            "\n",
            "ID: NIKE2\n",
            "Nike Pink Rs. 575 Quantity Available: 52 Size: XXL\n",
            "\n",
            "ID: NIKE3\n",
            "Nike Green Rs. 547 Quantity Available: 73 Size: L\n",
            "\n",
            "ID: NIKE4\n",
            "Nike Orange Rs. 574 Quantity Available: 89 Size: M\n",
            "\n",
            "ID: NIKE5\n",
            "Nike White Rs. 777 Quantity Available: 43 Size: S\n",
            "\n",
            "ID: ZACK1\n",
            "ZACK AND ZONES RED Rs. 650 Quantity Available: 60 Size: M\n",
            "\n",
            "ID: JINNY1\n",
            "JINKUJOL Red Rs. 450 Quantity Available: 5 Size: M\n",
            "\n",
            "ID: JINNY2\n",
            "JINKIJOL White Rs. 555 Quantity Available: 70 Size: L\n",
            "\n"
          ]
        }
      ]
    },
    {
      "cell_type": "code",
      "metadata": {
        "colab": {
          "base_uri": "https://localhost:8080/"
        },
        "id": "Yj7tyzxWseqH",
        "outputId": "4ea80577-a13d-4322-8eda-9411f48ea2c2"
      },
      "source": [
        "print(\"Do you want to add new products to your inventory?\\n\")\n",
        "ans=str(input(\"Write YES or NO in Capital : \"))\n",
        "if ans==\"NO\":\n",
        "  print(\"Okay, See You Next Time.\\nGoodBye!\")\n",
        "elif ans==\"YES\":\n",
        "  items=int(input(\"How many New Items, do you want to add to your Inventory? : \"))\n",
        "  for j in range(0,items):\n",
        "\n",
        "    prod_id = str(input(\"\\nEnter T-Shirt ID:\"))\n",
        "    comp = str(input(\"Enter T-Shirt Company:\"))\n",
        "    color=str(input(\"Enter T-Shirt Color:\"))\n",
        "    price = int(input(\"Enter T-Shirt Prize:\"))\n",
        "    quant = int(input(\"Enter T-Shirt Quantity:\"))\n",
        "    size=str(input(\"Enter T-Shirt Size:\"))\n",
        "    record[prod_id] = {'comp': comp, 'color':color,'price': price, 'quant': quant,'size':size}\n",
        "    print(\"\\nInventory has been updated!\")\n",
        "    js = json.dumps(record)\n",
        "    fd = open(\"record.json\",'w')\n",
        "    fd.write(js)\n",
        "    fd.close()"
      ],
      "execution_count": 46,
      "outputs": [
        {
          "output_type": "stream",
          "name": "stdout",
          "text": [
            "Do you want to add new products to your inventory?\n",
            "\n",
            "Write YES or NO in Capital : YES\n",
            "How many New Items, do you want to add to your Inventory? : 10\n",
            "\n",
            "Enter T-Shirt ID:NOTTY1\n",
            "Enter T-Shirt Company:NATWAR\n",
            "Enter T-Shirt Color:Peach\n",
            "Enter T-Shirt Prize:560\n",
            "Enter T-Shirt Quantity:500\n",
            "Enter T-Shirt Size:L\n",
            "\n",
            "Inventory has been updated!\n",
            "\n",
            "Enter T-Shirt ID:NOTTY2\n",
            "Enter T-Shirt Company:Natwar\n",
            "Enter T-Shirt Color:Green\n",
            "Enter T-Shirt Prize:450\n",
            "Enter T-Shirt Quantity:670\n",
            "Enter T-Shirt Size:L\n",
            "\n",
            "Inventory has been updated!\n",
            "\n",
            "Enter T-Shirt ID:NOTTY3\n",
            "Enter T-Shirt Company:Natwar\n",
            "Enter T-Shirt Color:Orange\n",
            "Enter T-Shirt Prize:600\n",
            "Enter T-Shirt Quantity:6000\n",
            "Enter T-Shirt Size:L\n",
            "\n",
            "Inventory has been updated!\n",
            "\n",
            "Enter T-Shirt ID:NOTTY4\n",
            "Enter T-Shirt Company:Natwar\n",
            "Enter T-Shirt Color:Black\n",
            "Enter T-Shirt Prize:4500\n",
            "Enter T-Shirt Quantity:10000\n",
            "Enter T-Shirt Size:M\n",
            "\n",
            "Inventory has been updated!\n",
            "\n",
            "Enter T-Shirt ID:NOTTY5\n",
            "Enter T-Shirt Company:Natwar\n",
            "Enter T-Shirt Color:White\n",
            "Enter T-Shirt Prize:550\n",
            "Enter T-Shirt Quantity:600\n",
            "Enter T-Shirt Size:XL\n",
            "\n",
            "Inventory has been updated!\n",
            "\n",
            "Enter T-Shirt ID:PXI1\n",
            "Enter T-Shirt Company:Pixel\n",
            "Enter T-Shirt Color:White\n",
            "Enter T-Shirt Prize:700\n",
            "Enter T-Shirt Quantity:650\n",
            "Enter T-Shirt Size:M\n",
            "\n",
            "Inventory has been updated!\n",
            "\n",
            "Enter T-Shirt ID:PXI2\n",
            "Enter T-Shirt Company:Pixel\n",
            "Enter T-Shirt Color:Orange\n",
            "Enter T-Shirt Prize:4500\n",
            "Enter T-Shirt Quantity:560\n",
            "Enter T-Shirt Size:S\n",
            "\n",
            "Inventory has been updated!\n",
            "\n",
            "Enter T-Shirt ID:PXI3\n",
            "Enter T-Shirt Company:Pixel\n",
            "Enter T-Shirt Color:Cream\n",
            "Enter T-Shirt Prize:600\n",
            "Enter T-Shirt Quantity:900\n",
            "Enter T-Shirt Size:M\n",
            "\n",
            "Inventory has been updated!\n",
            "\n",
            "Enter T-Shirt ID:PXI4\n",
            "Enter T-Shirt Company:Pixel\n",
            "Enter T-Shirt Color:Red\n",
            "Enter T-Shirt Prize:987\n",
            "Enter T-Shirt Quantity:790\n",
            "Enter T-Shirt Size:XXL\n",
            "\n",
            "Inventory has been updated!\n",
            "\n",
            "Enter T-Shirt ID:PXI5\n",
            "Enter T-Shirt Company:Pixel\n",
            "Enter T-Shirt Color:Hue\n",
            "Enter T-Shirt Prize:999\n",
            "Enter T-Shirt Quantity:1000\n",
            "Enter T-Shirt Size:L\n",
            "\n",
            "Inventory has been updated!\n"
          ]
        }
      ]
    },
    {
      "cell_type": "code",
      "metadata": {
        "id": "YgdyRat0B791",
        "colab": {
          "base_uri": "https://localhost:8080/"
        },
        "outputId": "2e734f7f-1ae8-428c-d0f9-ef9c3b8d8e46"
      },
      "source": [
        "print(\"The Stocks Till Now :\\n\\n\")\n",
        "m=1\n",
        "for i in record:\n",
        "  print(m,i,record[i]['comp'],record[i]['color'],\"Rs.\",record[i]['price'],\"Quantity Available:\",record[i]['quant'],\"Size:\",record[i]['size'])\n",
        "  m=m+1"
      ],
      "execution_count": 47,
      "outputs": [
        {
          "output_type": "stream",
          "name": "stdout",
          "text": [
            "The Stocks Till Now :\n",
            "\n",
            "\n",
            "1 ADI1 Adidas Blue Rs. 799 Quantity Available: 150 Size: L\n",
            "2 ADI2 Adidas Green Rs. 435 Quantity Available: 10 Size: M\n",
            "3 ADI3 Adidas Blue Rs. 456 Quantity Available: 10 Size: XXL\n",
            "4 ADI4 Adidas Navy Blue Rs. 765 Quantity Available: 50 Size: S\n",
            "5 ADI5 Adidas Peach Rs. 456 Quantity Available: 40 Size: M\n",
            "6 NIKE1 Nike Black Rs. 978 Quantity Available: 30 Size: XXXL\n",
            "7 NIKE2 Nike Pink Rs. 575 Quantity Available: 52 Size: XXL\n",
            "8 NIKE3 Nike Green Rs. 547 Quantity Available: 73 Size: L\n",
            "9 NIKE4 Nike Orange Rs. 574 Quantity Available: 89 Size: M\n",
            "10 NIKE5 Nike White Rs. 777 Quantity Available: 43 Size: S\n",
            "11 ZACK1 ZACK AND ZONES RED Rs. 650 Quantity Available: 60 Size: M\n",
            "12 JINNY1 JINKUJOL Red Rs. 450 Quantity Available: 5 Size: M\n",
            "13 JINNY2 JINKIJOL White Rs. 555 Quantity Available: 70 Size: L\n",
            "14 PUMA1 PUMA Green Rs. 700 Quantity Available: 50 Size: L\n",
            "15 PUMA2 PUMA Red Rs. 699 Quantity Available: 700 Size: L\n",
            "16 PUMA3 PUMA Orange Rs. 5000 Quantity Available: 9000 Size: XL\n",
            "17 PUMA PUMA Black Rs. 5067 Quantity Available: 700 Size: M\n",
            "18 PUMA4 PUMA Pink Rs. 100 Quantity Available: 700 Size: XS\n",
            "19 PUMA5 PUMA Blue Rs. 399 Quantity Available: 450 Size: S\n",
            "20 VT1 Videsh White Rs. 600 Quantity Available: 600 Size: L\n",
            "21 VT2 Videsh Cream Rs. 100 Quantity Available: 10000 Size: XL\n",
            "22 VT3 Videsh Grey Rs. 150 Quantity Available: 600 Size: L\n",
            "23 NOTTY1 NATWAR Peach Rs. 560 Quantity Available: 500 Size: L\n",
            "24 NOTTY2 Natwar Green Rs. 450 Quantity Available: 670 Size: L\n",
            "25 NOTTY3 Natwar Orange Rs. 600 Quantity Available: 6000 Size: L\n",
            "26 NOTTY4 Natwar Black Rs. 4500 Quantity Available: 10000 Size: M\n",
            "27 NOTTY5 Natwar White Rs. 550 Quantity Available: 600 Size: XL\n",
            "28 PXI1 Pixel White Rs. 700 Quantity Available: 650 Size: M\n",
            "29 PXI2 Pixel Orange Rs. 4500 Quantity Available: 560 Size: S\n",
            "30 PXI3 Pixel Cream Rs. 600 Quantity Available: 900 Size: M\n",
            "31 PXI4 Pixel Red Rs. 987 Quantity Available: 790 Size: XXL\n",
            "32 PXI5 Pixel Hue Rs. 999 Quantity Available: 1000 Size: L\n"
          ]
        }
      ]
    }
  ]
}